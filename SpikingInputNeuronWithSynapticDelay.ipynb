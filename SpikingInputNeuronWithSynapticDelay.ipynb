{
 "metadata": {
  "name": ""
 },
 "nbformat": 3,
 "nbformat_minor": 0,
 "worksheets": [
  {
   "cells": [
    {
     "cell_type": "markdown",
     "metadata": {},
     "source": [
      "Part of [Neural Network Notebook (3nb)](http://ekaakurniawan.github.io/3nb/)."
     ]
    },
    {
     "cell_type": "markdown",
     "metadata": {},
     "source": [
      "> Copyright (C) 2014 by Eka A. Kurniawan\n",
      "> \n",
      "> eka.a.kurniawan(ta)gmail(tod)com\n",
      "> \n",
      "> This program is free software; you can redistribute it and/or modify it under the terms of the GNU General Public License as published by the Free Software Foundation; version 2 of the License.\n",
      "> \n",
      "> This program is distributed in the hope that it will be useful, but WITHOUT ANY WARRANTY; without even the implied warranty of MERCHANTABILITY or FITNESS FOR A PARTICULAR PURPOSE.  See the GNU General Public License for more details.\n",
      "> \n",
      "> You should have received a copy of the GNU General Public License along with this program; if not, write to the Free Software Foundation, Inc., 59 Temple Place - Suite 330, Boston, MA  02111-1307, USA."
     ]
    },
    {
     "cell_type": "heading",
     "level": 3,
     "metadata": {},
     "source": [
      "TODOs"
     ]
    },
    {
     "cell_type": "markdown",
     "metadata": {},
     "source": [
      "- __Parallel Python-OpenCL Implementation__: Implement spiking input neuron with synaptic delay using integer event.\n",
      "- __Parallel Python-OpenCL Implementation__: Implement spiking input neuron with synaptic delay using binary event.\n",
      "- __Execution Time__: Collect and plot execution time based on different numbers of outgoing synapses.\n",
      "- __Memory Consumption__: Calculate memory consumption for different outgoing synapse sizes using both integer and binary event.\n",
      "\n",
      "Done:\n",
      "\n",
      "- __Sequential Python Implementation__: Implement spiking input neuron with synaptic delay using binary event.\n",
      "- __Sequential Python Implementation__: Implement spiking input neuron with synaptic delay using integer event.\n",
      "- __Spiking Input Neuron Model with Synaptic Delay__: Add spiking input neuron class."
     ]
    },
    {
     "cell_type": "heading",
     "level": 3,
     "metadata": {},
     "source": [
      "Tested On"
     ]
    },
    {
     "cell_type": "markdown",
     "metadata": {},
     "source": [
      "MacBook Pro Retina, Mid 2012 with OS X 10.9.1 (Mavericks)"
     ]
    },
    {
     "cell_type": "markdown",
     "metadata": {},
     "source": [
      "Python version:"
     ]
    },
    {
     "cell_type": "code",
     "collapsed": false,
     "input": [
      "import sys\n",
      "print(\"Python %d.%d.%d\" % (sys.version_info.major, \\\n",
      "                           sys.version_info.minor, \\\n",
      "                           sys.version_info.micro))"
     ],
     "language": "python",
     "metadata": {},
     "outputs": [
      {
       "output_type": "stream",
       "stream": "stdout",
       "text": [
        "Python 3.3.3\n"
       ]
      }
     ],
     "prompt_number": 1
    },
    {
     "cell_type": "markdown",
     "metadata": {},
     "source": [
      "NumPy version:"
     ]
    },
    {
     "cell_type": "code",
     "collapsed": false,
     "input": [
      "import numpy as np\n",
      "print(\"NumPy %s\" % np.__version__)"
     ],
     "language": "python",
     "metadata": {},
     "outputs": [
      {
       "output_type": "stream",
       "stream": "stdout",
       "text": [
        "NumPy 1.8.0\n"
       ]
      }
     ],
     "prompt_number": 2
    },
    {
     "cell_type": "markdown",
     "metadata": {},
     "source": [
      "matplotlib version:"
     ]
    },
    {
     "cell_type": "code",
     "collapsed": false,
     "input": [
      "import matplotlib\n",
      "import matplotlib.pyplot as plt\n",
      "print(\"matplotlib %s\" % matplotlib.__version__)"
     ],
     "language": "python",
     "metadata": {},
     "outputs": [
      {
       "output_type": "stream",
       "stream": "stdout",
       "text": [
        "matplotlib 1.3.1\n"
       ]
      }
     ],
     "prompt_number": 3
    },
    {
     "cell_type": "heading",
     "level": 3,
     "metadata": {},
     "source": [
      "Execution and Settings"
     ]
    },
    {
     "cell_type": "markdown",
     "metadata": {},
     "source": [
      "To run this IPython Notebook; open a console, go to notebook directory and execute following command."
     ]
    },
    {
     "cell_type": "markdown",
     "metadata": {},
     "source": [
      "`ipython3-3.3 notebook --pylab inline`"
     ]
    },
    {
     "cell_type": "markdown",
     "metadata": {},
     "source": [
      "Settings required:"
     ]
    },
    {
     "cell_type": "code",
     "collapsed": false,
     "input": [
      "# Display graph in 'retina' format for Mac with retina display. Others, use PNG or SVG format.\n",
      "%config InlineBackend.figure_format = 'retina'\n",
      "#%config InlineBackend.figure_format = 'PNG'\n",
      "#%config InlineBackend.figure_format = 'SVG'"
     ],
     "language": "python",
     "metadata": {},
     "outputs": [],
     "prompt_number": 4
    },
    {
     "cell_type": "markdown",
     "metadata": {},
     "source": [
      "Other imports:"
     ]
    },
    {
     "cell_type": "code",
     "collapsed": false,
     "input": [
      "import time\n",
      "from random import randint\n",
      "import os.path"
     ],
     "language": "python",
     "metadata": {},
     "outputs": [],
     "prompt_number": 5
    },
    {
     "cell_type": "heading",
     "level": 3,
     "metadata": {},
     "source": [
      "Housekeeping Functions"
     ]
    },
    {
     "cell_type": "markdown",
     "metadata": {},
     "source": [
      "Functions to save/load array to/from file."
     ]
    },
    {
     "cell_type": "code",
     "collapsed": false,
     "input": [
      "def save_list(file_name, list_name):\n",
      "    with open(file_name, 'w') as fh:\n",
      "        fh.write(\"\\n\".join(list_name))\n",
      "    \n",
      "def load_list(file_name):\n",
      "    with open(file_name, 'r') as fh:\n",
      "        return [line.strip() for line in fh.readlines()]"
     ],
     "language": "python",
     "metadata": {},
     "outputs": [],
     "prompt_number": 6
    },
    {
     "cell_type": "markdown",
     "metadata": {},
     "source": [
      "Function to print event buffer with the current index location (marked with `>>>`)."
     ]
    },
    {
     "cell_type": "code",
     "collapsed": false,
     "input": [
      "# Print event in array of integers\n",
      "def print_event_ie(cur_event_idx = None, events = [[]]):\n",
      "    for event_id, event in enumerate(events):\n",
      "        if event_id == cur_event_idx:\n",
      "            print(\">>> %s\" % event)\n",
      "        else:\n",
      "            print(\"    %s\" % event)\n",
      "            \n",
      "# Print event in array of binaries\n",
      "def print_event_be(events = []):\n",
      "    for event in events:\n",
      "        print('{0:011b}'.format(event))"
     ],
     "language": "python",
     "metadata": {},
     "outputs": [],
     "prompt_number": 7
    },
    {
     "cell_type": "markdown",
     "metadata": {},
     "source": [
      "---"
     ]
    },
    {
     "cell_type": "heading",
     "level": 1,
     "metadata": {},
     "source": [
      "Spiking Input Neuron Model with Synaptic Delay"
     ]
    },
    {
     "cell_type": "markdown",
     "metadata": {},
     "source": [
      "The implementation is taken from CSIM: A neural Circuit SIMulator website and modified accordingly.[1]"
     ]
    },
    {
     "cell_type": "code",
     "collapsed": false,
     "input": [
      "# incoming_synapses: incoming synapses ID\n",
      "# outgoing_synapses: outgoing synapses ID\n",
      "class Neuron:\n",
      "    def __init__(self,\n",
      "                 incoming_synapses = [],\n",
      "                 outgoing_synapses = []):\n",
      "        self.incoming_synapses = incoming_synapses\n",
      "        self.outgoing_synapses = outgoing_synapses\n",
      "\n",
      "# Spiking input neuron class with synaptic delay using integer event (ie).\n",
      "# Spiking input neuron has no incoming synapses as the channel attached \n",
      "# to the neuron provides all input spikes.\n",
      "# outgoing_delays: array of outgoing synaptic delays connected to \n",
      "#                  this particular neuron in time step\n",
      "# channel: None ternimated array of simulation time when spikes happen\n",
      "class SpikingInputNeuron_SynapticDelay_ie(Neuron):\n",
      "    def __init__(self,\n",
      "                 outgoing_synapses = [],\n",
      "                 outgoing_delays = [],\n",
      "                 channel = []):\n",
      "        Neuron.__init__(self, [], outgoing_synapses)\n",
      "        self.outgoing_delays = outgoing_delays\n",
      "        self.channel = channel\n",
      "        self.nextSpikeTime = channel[0]\n",
      "        # Current channel index\n",
      "        self.cur_idx = 0\n",
      "        self.hasFired = 0\n",
      "\n",
      "    # Get next value from channel\n",
      "    def nextValue(self, t):\n",
      "        self.hasFired = 0\n",
      "        \n",
      "        if self.nextSpikeTime == None:\n",
      "            return\n",
      "        \n",
      "        if self.nextSpikeTime < t:\n",
      "            self.hasFired = 1\n",
      "            self.cur_idx += 1\n",
      "            self.nextSpikeTime = channel[self.cur_idx]\n",
      "    \n",
      "    # Handle synaptic delay and update event buffer\n",
      "    def propagateSpike(self, cur_event_idx, ldelayList, outgoing_events):\n",
      "        for outgoing_synapse in self.outgoing_synapses:\n",
      "            delay = self.outgoing_delays[outgoing_synapse]\n",
      "            new_event_idx = cur_event_idx + delay\n",
      "            if new_event_idx >= ldelayList:\n",
      "                new_event_idx -= ldelayList\n",
      "            outgoing_events[new_event_idx][outgoing_synapse] = 1\n",
      "    \n",
      "    # Function that consists of all processes to be run every iteration\n",
      "    def nextState(self, t, cur_event_idx, ldelayList, outgoing_events):\n",
      "        self.nextValue(t)\n",
      "        if self.hasFired:\n",
      "            self.propagateSpike(cur_event_idx, ldelayList, outgoing_events)\n",
      "\n",
      "# Spiking input neuron class with synaptic delay using binary event (be).\n",
      "# Spiking input neuron has no incoming synapses as the channel attached \n",
      "# to the neuron provides all input spikes.\n",
      "# outgoing_delays: array of outgoing synaptic delays connected to \n",
      "#                  this particular neuron in bit location of time step\n",
      "# channel: None ternimated array of simulation time when spikes happen\n",
      "class SpikingInputNeuron_SynapticDelay_be(Neuron):\n",
      "    def __init__(self,\n",
      "                 outgoing_synapses = [],\n",
      "                 outgoing_delays = [],\n",
      "                 channel = []):\n",
      "        Neuron.__init__(self, [], outgoing_synapses)\n",
      "        self.outgoing_delays = outgoing_delays\n",
      "        self.channel = channel\n",
      "        self.nextSpikeTime = channel[0]\n",
      "        # Current channel index\n",
      "        self.cur_idx = 0\n",
      "        self.hasFired = 0\n",
      "\n",
      "    # Get next value from channel\n",
      "    def nextValue(self, t):\n",
      "        self.hasFired = 0\n",
      "        \n",
      "        if self.nextSpikeTime == None:\n",
      "            return\n",
      "        \n",
      "        if self.nextSpikeTime < t:\n",
      "            self.hasFired = 1\n",
      "            self.cur_idx += 1\n",
      "            self.nextSpikeTime = channel[self.cur_idx]\n",
      "    \n",
      "    # Handle synaptic delay and update event buffer\n",
      "    def propagateSpike(self, outgoing_events):\n",
      "        for outgoing_synapse in self.outgoing_synapses:\n",
      "            delay = self.outgoing_delays[outgoing_synapse]\n",
      "            outgoing_events[outgoing_synapse] += delay\n",
      "    \n",
      "    # Function that consists of all processes to be run every iteration\n",
      "    def nextState(self, t, outgoing_events):\n",
      "        self.nextValue(t)\n",
      "        if self.hasFired:\n",
      "            self.propagateSpike(outgoing_events)\n"
     ],
     "language": "python",
     "metadata": {},
     "outputs": [],
     "prompt_number": 8
    },
    {
     "cell_type": "markdown",
     "metadata": {},
     "source": [
      "Test spiking input neuron using integer event with input spike at 0.801 millisecond."
     ]
    },
    {
     "cell_type": "code",
     "collapsed": false,
     "input": [
      "dt = 2e-4\n",
      "Tsim = 30e-4\n",
      "\n",
      "ttl_synapse = 10\n",
      "# Outgoing synapse IDs\n",
      "outgoing_synapses = [1,3,7]\n",
      "# Outgoing delay (in time step)\n",
      "outgoing_delays = [0,2,0,10,0,0,0,5,0,0]\n",
      "# Get maximum outgoing delay to alocate the most optimized event buffer\n",
      "ldelayList = np.max(outgoing_delays) + 1\n",
      "# 2D array of outgoing events connected to this particular neuron in integer\n",
      "outgoing_events = [ttl_synapse * [0] for i in range(ldelayList)]\n",
      "# Input channel\n",
      "channel = [8.01e-4, None]\n",
      "\n",
      "# Construct a spiking input neuron\n",
      "n1 = SpikingInputNeuron_SynapticDelay_ie(outgoing_synapses, \\\n",
      "                                         outgoing_delays, \\\n",
      "                                         channel)\n",
      "\n",
      "t = 0.0\n",
      "nSteps = int((Tsim / dt) + 0.5)\n",
      "cur_event_idx = 0\n",
      "for step in range(nSteps):\n",
      "    t += dt\n",
      "    n1.nextState(t, cur_event_idx, ldelayList, outgoing_events)\n",
      "    \n",
      "    if int(channel[0] / dt) == step:\n",
      "        print_event_ie(cur_event_idx, outgoing_events)\n",
      "    \n",
      "    cur_event_idx += 1\n",
      "    if (cur_event_idx >= ldelayList):\n",
      "        cur_event_idx = 0"
     ],
     "language": "python",
     "metadata": {},
     "outputs": [
      {
       "output_type": "stream",
       "stream": "stdout",
       "text": [
        "    [0, 0, 0, 0, 0, 0, 0, 0, 0, 0]\n",
        "    [0, 0, 0, 0, 0, 0, 0, 0, 0, 0]\n",
        "    [0, 0, 0, 0, 0, 0, 0, 0, 0, 0]\n",
        "    [0, 0, 0, 1, 0, 0, 0, 0, 0, 0]\n",
        ">>> [0, 0, 0, 0, 0, 0, 0, 0, 0, 0]\n",
        "    [0, 0, 0, 0, 0, 0, 0, 0, 0, 0]\n",
        "    [0, 1, 0, 0, 0, 0, 0, 0, 0, 0]\n",
        "    [0, 0, 0, 0, 0, 0, 0, 0, 0, 0]\n",
        "    [0, 0, 0, 0, 0, 0, 0, 0, 0, 0]\n",
        "    [0, 0, 0, 0, 0, 0, 0, 1, 0, 0]\n",
        "    [0, 0, 0, 0, 0, 0, 0, 0, 0, 0]\n"
       ]
      }
     ],
     "prompt_number": 9
    },
    {
     "cell_type": "markdown",
     "metadata": {},
     "source": [
      "Test spiking input neuron using integer event with input spike at 1.601 milliseconds."
     ]
    },
    {
     "cell_type": "code",
     "collapsed": false,
     "input": [
      "dt = 2e-4\n",
      "Tsim = 30e-4\n",
      "\n",
      "ttl_synapse = 10\n",
      "# Outgoing synapse IDs\n",
      "outgoing_synapses = [1,3,7]\n",
      "# Outgoing delay (in time step)\n",
      "outgoing_delays = [0,2,0,10,0,0,0,5,0,0]\n",
      "# Get maximum outgoing delay to alocate the most optimized event buffer\n",
      "ldelayList = np.max(outgoing_delays) + 1\n",
      "# 2D array of outgoing events connected to this particular neuron in integer\n",
      "outgoing_events = [ttl_synapse * [0] for i in range(ldelayList)]\n",
      "# Input channel\n",
      "channel = [16.01e-4, None]\n",
      "\n",
      "# Construct a spiking input neuron\n",
      "n1 = SpikingInputNeuron_SynapticDelay_ie(outgoing_synapses, \\\n",
      "                                         outgoing_delays, \\\n",
      "                                         channel)\n",
      "\n",
      "t = 0.0\n",
      "nSteps = int((Tsim / dt) + 0.5)\n",
      "cur_event_idx = 0\n",
      "for step in range(nSteps):\n",
      "    t += dt\n",
      "    n1.nextState(t, cur_event_idx, ldelayList, outgoing_events)\n",
      "    \n",
      "    if int((channel[0] / dt) + 0.5) == step:\n",
      "        print_event_ie(cur_event_idx, outgoing_events)\n",
      "    \n",
      "    cur_event_idx += 1\n",
      "    if (cur_event_idx >= ldelayList):\n",
      "        cur_event_idx = 0"
     ],
     "language": "python",
     "metadata": {},
     "outputs": [
      {
       "output_type": "stream",
       "stream": "stdout",
       "text": [
        "    [0, 0, 0, 0, 0, 0, 0, 0, 0, 0]\n",
        "    [0, 0, 0, 0, 0, 0, 0, 0, 0, 0]\n",
        "    [0, 0, 0, 0, 0, 0, 0, 1, 0, 0]\n",
        "    [0, 0, 0, 0, 0, 0, 0, 0, 0, 0]\n",
        "    [0, 0, 0, 0, 0, 0, 0, 0, 0, 0]\n",
        "    [0, 0, 0, 0, 0, 0, 0, 0, 0, 0]\n",
        "    [0, 0, 0, 0, 0, 0, 0, 0, 0, 0]\n",
        "    [0, 0, 0, 1, 0, 0, 0, 0, 0, 0]\n",
        ">>> [0, 0, 0, 0, 0, 0, 0, 0, 0, 0]\n",
        "    [0, 0, 0, 0, 0, 0, 0, 0, 0, 0]\n",
        "    [0, 1, 0, 0, 0, 0, 0, 0, 0, 0]\n"
       ]
      }
     ],
     "prompt_number": 10
    },
    {
     "cell_type": "markdown",
     "metadata": {},
     "source": [
      "Test spiking input neuron using integer event with input spike at 2.601 milliseconds."
     ]
    },
    {
     "cell_type": "code",
     "collapsed": false,
     "input": [
      "dt = 2e-4\n",
      "Tsim = 30e-4\n",
      "\n",
      "ttl_synapse = 10\n",
      "# Outgoing synapse IDs\n",
      "outgoing_synapses = [1,3,7]\n",
      "# Outgoing delay (in time step)\n",
      "outgoing_delays = [0,2,0,10,0,0,0,5,0,0]\n",
      "# Get maximum outgoing delay to alocate the most optimized event buffer\n",
      "ldelayList = np.max(outgoing_delays) + 1\n",
      "# 2D array of outgoing events connected to this particular neuron in integer\n",
      "outgoing_events = [ttl_synapse * [0] for i in range(ldelayList)]\n",
      "# Input channel\n",
      "channel = [26.01e-4, None]\n",
      "\n",
      "# Construct a spiking input neuron\n",
      "n1 = SpikingInputNeuron_SynapticDelay_ie(outgoing_synapses, \\\n",
      "                                         outgoing_delays, \\\n",
      "                                         channel)\n",
      "\n",
      "t = 0.0\n",
      "nSteps = int((Tsim / dt) + 0.5)\n",
      "cur_event_idx = 0\n",
      "for step in range(nSteps):\n",
      "    t += dt\n",
      "    n1.nextState(t, cur_event_idx, ldelayList, outgoing_events)\n",
      "    \n",
      "    if int(channel[0] / dt) == step:\n",
      "        print_event_ie(cur_event_idx, outgoing_events)\n",
      "    \n",
      "    cur_event_idx += 1\n",
      "    if (cur_event_idx >= ldelayList):\n",
      "        cur_event_idx = 0"
     ],
     "language": "python",
     "metadata": {},
     "outputs": [
      {
       "output_type": "stream",
       "stream": "stdout",
       "text": [
        "    [0, 0, 0, 0, 0, 0, 0, 0, 0, 0]\n",
        "    [0, 0, 0, 1, 0, 0, 0, 0, 0, 0]\n",
        ">>> [0, 0, 0, 0, 0, 0, 0, 0, 0, 0]\n",
        "    [0, 0, 0, 0, 0, 0, 0, 0, 0, 0]\n",
        "    [0, 1, 0, 0, 0, 0, 0, 0, 0, 0]\n",
        "    [0, 0, 0, 0, 0, 0, 0, 0, 0, 0]\n",
        "    [0, 0, 0, 0, 0, 0, 0, 0, 0, 0]\n",
        "    [0, 0, 0, 0, 0, 0, 0, 1, 0, 0]\n",
        "    [0, 0, 0, 0, 0, 0, 0, 0, 0, 0]\n",
        "    [0, 0, 0, 0, 0, 0, 0, 0, 0, 0]\n",
        "    [0, 0, 0, 0, 0, 0, 0, 0, 0, 0]\n"
       ]
      }
     ],
     "prompt_number": 11
    },
    {
     "cell_type": "markdown",
     "metadata": {},
     "source": [
      "Test spiking input neuron using binary event with input spike at 2.601 milliseconds."
     ]
    },
    {
     "cell_type": "code",
     "collapsed": false,
     "input": [
      "dt = 2e-4\n",
      "Tsim = 30e-4\n",
      "\n",
      "ttl_synapse = 10\n",
      "# Outgoing synapse IDs\n",
      "outgoing_synapses = [1,3,7]\n",
      "# Outgoing delay (in time step)\n",
      "outgoing_delays_ie = [0,2,0,10,0,0,0,5,0,0]\n",
      "# Outgoing delay (in binary location)\n",
      "outgoing_delays_be = [2 ** delay for delay in outgoing_delays_ie]\n",
      "# Get maximum outgoing delay is not allowed to be greather than 31\n",
      "# for 32-bit integer data type\n",
      "ldelayList = np.max(outgoing_delays_ie) + 1\n",
      "if ldelayList > 31:\n",
      "    print(\"WARNING: Maximum outgoing delay is %s time step(s)\" % ldelayList)\n",
      "    print(\"         It is not allowed to be greather than 31 for 32-bit integer data type\")\n",
      "# array of outgoing events connected to this particular neuron in \n",
      "# integer of binary\n",
      "outgoing_events = np.array([0 for i in range(ttl_synapse)])\n",
      "# Input channel\n",
      "channel = [26.01e-4, None]\n",
      "\n",
      "# Construct a spiking input neuron\n",
      "n1 = SpikingInputNeuron_SynapticDelay_be(outgoing_synapses, \\\n",
      "                                         outgoing_delays_be, \\\n",
      "                                         channel)\n",
      "\n",
      "t = 0.0\n",
      "nSteps = int((Tsim / dt) + 0.5)\n",
      "for step in range(nSteps):\n",
      "    t += dt\n",
      "    n1.nextState(t, outgoing_events)\n",
      "\n",
      "    if int(channel[0] / dt) == step:\n",
      "        print_event_be(outgoing_events)\n",
      "    \n",
      "    # Shift outgoing event one to right\n",
      "    outgoing_events = outgoing_events >> 1"
     ],
     "language": "python",
     "metadata": {},
     "outputs": [
      {
       "output_type": "stream",
       "stream": "stdout",
       "text": [
        "00000000000\n",
        "00000000100\n",
        "00000000000\n",
        "10000000000\n",
        "00000000000\n",
        "00000000000\n",
        "00000000000\n",
        "00000100000\n",
        "00000000000\n",
        "00000000000\n"
       ]
      }
     ],
     "prompt_number": 12
    },
    {
     "cell_type": "markdown",
     "metadata": {},
     "source": [
      "---"
     ]
    },
    {
     "cell_type": "heading",
     "level": 1,
     "metadata": {},
     "source": [
      "Sequential Python Implementation"
     ]
    },
    {
     "cell_type": "heading",
     "level": 3,
     "metadata": {},
     "source": [
      "Sequential Implementation using Integer Event (`seq_ie` Function)"
     ]
    },
    {
     "cell_type": "code",
     "collapsed": false,
     "input": [
      "def run_seq_ie(nSteps, ldelayList, \\\n",
      "               outgoing_synapses, outgoing_delays, outgoing_events, \\\n",
      "               channel, \\\n",
      "               plot = False):\n",
      "    # Buffer allocation time is not applicable for sequential implementation\n",
      "    bat = np.nan\n",
      "    \n",
      "    # Construct a spiking input neuron\n",
      "    n1 = SpikingInputNeuron_SynapticDelay_ie(outgoing_synapses, \\\n",
      "                                             outgoing_delays, \\\n",
      "                                             channel)\n",
      "    \n",
      "    t = 0.0\n",
      "    cur_event_idx = 0\n",
      "    tic = time.time()\n",
      "    for step in range(nSteps):\n",
      "        t += dt\n",
      "        n1.nextState(t, cur_event_idx, ldelayList, outgoing_events)\n",
      "        cur_event_idx += 1\n",
      "        if (cur_event_idx >= ldelayList):\n",
      "            cur_event_idx = 0\n",
      "    toc = time.time()\n",
      "    # Run time\n",
      "    rt = toc - tic\n",
      "    # Total time\n",
      "    tt = rt\n",
      "\n",
      "    if plot:\n",
      "        print_event_ie(None, outgoing_events)\n",
      "    \n",
      "    return bat, rt, tt"
     ],
     "language": "python",
     "metadata": {},
     "outputs": [],
     "prompt_number": 13
    },
    {
     "cell_type": "markdown",
     "metadata": {},
     "source": [
      "Test spiking input neuron with input spike at 2.601 milliseconds."
     ]
    },
    {
     "cell_type": "code",
     "collapsed": false,
     "input": [
      "dt = 2e-4\n",
      "Tsim = 0.3\n",
      "\n",
      "ttl_synapse = 10\n",
      "# Outgoing synapse IDs\n",
      "outgoing_synapses = [1,3,7]\n",
      "# Outgoing delay (in time step)\n",
      "outgoing_delays = [0,2,0,10,0,0,0,5,0,0]\n",
      "# Get maximum outgoing delay to alocate the most optimized event buffer\n",
      "ldelayList = np.max(outgoing_delays) + 1\n",
      "# 2D array of outgoing events connected to this particular neuron in integer\n",
      "outgoing_events = [ttl_synapse * [0] for i in range(ldelayList)]\n",
      "# Input channel\n",
      "channel = [26.01e-4, None]\n",
      "\n",
      "nSteps = int((Tsim / dt) + 0.5)\n",
      "seq_t = run_seq_ie(nSteps, ldelayList, \\\n",
      "                   outgoing_synapses, outgoing_delays, outgoing_events, \\\n",
      "                   channel, \\\n",
      "                   plot = True)"
     ],
     "language": "python",
     "metadata": {},
     "outputs": [
      {
       "output_type": "stream",
       "stream": "stdout",
       "text": [
        "    [0, 0, 0, 0, 0, 0, 0, 0, 0, 0]\n",
        "    [0, 0, 0, 1, 0, 0, 0, 0, 0, 0]\n",
        "    [0, 0, 0, 0, 0, 0, 0, 0, 0, 0]\n",
        "    [0, 0, 0, 0, 0, 0, 0, 0, 0, 0]\n",
        "    [0, 1, 0, 0, 0, 0, 0, 0, 0, 0]\n",
        "    [0, 0, 0, 0, 0, 0, 0, 0, 0, 0]\n",
        "    [0, 0, 0, 0, 0, 0, 0, 0, 0, 0]\n",
        "    [0, 0, 0, 0, 0, 0, 0, 1, 0, 0]\n",
        "    [0, 0, 0, 0, 0, 0, 0, 0, 0, 0]\n",
        "    [0, 0, 0, 0, 0, 0, 0, 0, 0, 0]\n",
        "    [0, 0, 0, 0, 0, 0, 0, 0, 0, 0]\n"
       ]
      }
     ],
     "prompt_number": 14
    },
    {
     "cell_type": "heading",
     "level": 3,
     "metadata": {},
     "source": [
      "Sequential Implementation using Binary Event (`seq_be` Function)"
     ]
    },
    {
     "cell_type": "code",
     "collapsed": false,
     "input": [
      "def run_seq_be(nSteps, \\\n",
      "               outgoing_synapses, outgoing_delays, outgoing_events, \\\n",
      "               channel, \\\n",
      "               plot = False):\n",
      "    # Buffer allocation time is not applicable for sequential implementation\n",
      "    bat = np.nan\n",
      "    \n",
      "    # Construct a spiking input neuron\n",
      "    n1 = SpikingInputNeuron_SynapticDelay_be(outgoing_synapses, \\\n",
      "                                             outgoing_delays, \\\n",
      "                                             channel)\n",
      "    \n",
      "    t = 0.0\n",
      "    tic = time.time()\n",
      "    for step in range(nSteps):\n",
      "        t += dt\n",
      "        n1.nextState(t, outgoing_events)\n",
      "        # Shift outgoing event one to right\n",
      "        outgoing_events = outgoing_events >> 1\n",
      "    toc = time.time()\n",
      "    # Run time\n",
      "    rt = toc - tic\n",
      "    # Total time\n",
      "    tt = rt\n",
      "\n",
      "    if plot:\n",
      "        print_event_be(outgoing_events)\n",
      "    \n",
      "    return bat, rt, tt"
     ],
     "language": "python",
     "metadata": {},
     "outputs": [],
     "prompt_number": 15
    },
    {
     "cell_type": "markdown",
     "metadata": {},
     "source": [
      "Test spiking input neuron with input spike at 2.601 milliseconds."
     ]
    },
    {
     "cell_type": "code",
     "collapsed": false,
     "input": [
      "dt = 2e-4\n",
      "Tsim = 28.01e-4\n",
      "\n",
      "ttl_synapse = 10\n",
      "# Outgoing synapse IDs\n",
      "outgoing_synapses = [1,3,7]\n",
      "# Outgoing delay (in time step)\n",
      "outgoing_delays_ie = [0,2,0,10,0,0,0,5,0,0]\n",
      "# Outgoing delay (in binary location)\n",
      "outgoing_delays_be = [2 ** delay for delay in outgoing_delays_ie]\n",
      "# Get maximum outgoing delay is not allowed to be greather than 31\n",
      "# for 32-bit integer data type\n",
      "ldelayList = np.max(outgoing_delays_ie) + 1\n",
      "if ldelayList > 31:\n",
      "    print(\"WARNING: Maximum outgoing delay is %s time step(s)\" % ldelayList)\n",
      "    print(\"         It is not allowed to be greather than 31 for 32-bit integer data type\")\n",
      "# array of outgoing events connected to this particular neuron in \n",
      "# integer of binary\n",
      "outgoing_events = np.array([0 for i in range(ttl_synapse)])\n",
      "# Input channel\n",
      "channel = [26.01e-4, None]\n",
      "\n",
      "nSteps = int((Tsim / dt) + 0.5)\n",
      "seq_t = run_seq_be(nSteps, \\\n",
      "                   outgoing_synapses, outgoing_delays_be, outgoing_events, \\\n",
      "                   channel, \\\n",
      "                   plot = True)"
     ],
     "language": "python",
     "metadata": {},
     "outputs": [
      {
       "output_type": "stream",
       "stream": "stdout",
       "text": [
        "00000000000\n",
        "00000000010\n",
        "00000000000\n",
        "01000000000\n",
        "00000000000\n",
        "00000000000\n",
        "00000000000\n",
        "00000010000\n",
        "00000000000\n",
        "00000000000\n"
       ]
      }
     ],
     "prompt_number": 16
    },
    {
     "cell_type": "markdown",
     "metadata": {},
     "source": [
      "---"
     ]
    },
    {
     "cell_type": "heading",
     "level": 1,
     "metadata": {},
     "source": [
      "Execution Time"
     ]
    },
    {
     "cell_type": "markdown",
     "metadata": {},
     "source": [
      "Following code executes serial and all parallel implementations on different number of outgoing synapses (1, 10, 100, 1 thousand, 10 thousand, 100 thousand, 1 million) and different OpenCL devices supported by this machine. The execution time collected from each implementation consists of buffer allocation time (`bat`), run time (`rt`) and total time (`tt`) of the two."
     ]
    },
    {
     "cell_type": "code",
     "collapsed": false,
     "input": [
      "dt = 2e-4\n",
      "Tsim = 0.3\n",
      "\n",
      "ttl_synapses = [1, 10, 100, 1000, 10000, 100000, 1000000]\n",
      "\n",
      "# Outgoing synaptic delay range. Both start and end are included.\n",
      "osd_start = 2\n",
      "osd_end = 11\n",
      "\n",
      "# Input channel\n",
      "channel = [10e-3, 15e-3, 20e-3, 25e-3, 30e-3, 35e-3, 40e-3, 45e-3, 50e-3, 55e-3] + \\\n",
      "          [100e-3] + \\\n",
      "          [120e-3, 130e-3, 140e-3, 150e-3, 155e-3, 160e-3, 165e-3, 170e-3] + \\\n",
      "          [250e-3, 255e-3, 260e-3, 265e-3, 270e-3, 280e-3, 290e-3] + \\\n",
      "          [None]\n",
      "\n",
      "nSteps = int((Tsim / dt) + 0.5)\n",
      "for ttl_synapse in ttl_synapses:\n",
      "    print(ttl_synapse) #bar\n",
      "    # Outgoing synapse IDs\n",
      "    outgoing_synapses = [sid for sid in range(ttl_synapse)]\n",
      "    # Outgoing delay (in time step)\n",
      "    outgoing_delays_ie = [randint(osd_start, osd_end) for sid in range(ttl_synapse)]\n",
      "    # Outgoing delay (in binary location)\n",
      "    outgoing_delays_be = [2 ** delay for delay in outgoing_delays_ie]\n",
      "    \n",
      "    # Get maximum outgoing delay to alocate the most optimized event buffer\n",
      "    ldelayList = np.max(outgoing_delays) + 1\n",
      "    if ldelayList > 31:\n",
      "        print(\"WARNING: Maximum outgoing delay is %s time step(s)\" % ldelayList)\n",
      "        print(\"         It is not allowed to be greather than 31 for 32-bit integer data type\")\n",
      "    # Alocate event buffer\n",
      "    outgoing_events_ie = [ttl_synapse * [0] for i in range(ldelayList)]\n",
      "    outgoing_events_be = np.array([0 for i in range(ttl_synapse)])\n",
      "    \n",
      "    seq_ie_t = run_seq_ie(nSteps, ldelayList, \\\n",
      "                          outgoing_synapses, outgoing_delays_ie, outgoing_events_ie, \\\n",
      "                          channel)\n",
      "    print(seq_ie_t) #bar\n",
      "    \n",
      "    seq_be_t = run_seq_be(nSteps, \\\n",
      "                          outgoing_synapses, outgoing_delays_be, outgoing_events_be, \\\n",
      "                          channel)\n",
      "    print(seq_be_t) #bar"
     ],
     "language": "python",
     "metadata": {},
     "outputs": [
      {
       "output_type": "stream",
       "stream": "stdout",
       "text": [
        "1\n",
        "(nan, 0.0031969547271728516, 0.0031969547271728516)\n",
        "(nan, 0.008183002471923828, 0.008183002471923828)\n",
        "10\n",
        "(nan, 0.0036079883575439453, 0.0036079883575439453)\n",
        "(nan, 0.009937047958374023, 0.009937047958374023)\n",
        "100\n",
        "(nan, 0.00824117660522461, 0.00824117660522461)\n",
        "(nan, 0.012319087982177734, 0.012319087982177734)\n",
        "1000\n",
        "(nan, 0.0534818172454834, 0.0534818172454834)"
       ]
      },
      {
       "output_type": "stream",
       "stream": "stdout",
       "text": [
        "\n",
        "(nan, 0.055780887603759766, 0.055780887603759766)"
       ]
      },
      {
       "output_type": "stream",
       "stream": "stdout",
       "text": [
        "\n",
        "10000\n",
        "(nan, 0.49008798599243164, 0.49008798599243164)"
       ]
      },
      {
       "output_type": "stream",
       "stream": "stdout",
       "text": [
        "\n",
        "(nan, 0.4440939426422119, 0.4440939426422119)"
       ]
      },
      {
       "output_type": "stream",
       "stream": "stdout",
       "text": [
        "\n",
        "100000\n",
        "(nan, 4.807276964187622, 4.807276964187622)"
       ]
      },
      {
       "output_type": "stream",
       "stream": "stdout",
       "text": [
        "\n",
        "(nan, 4.334025144577026, 4.334025144577026)"
       ]
      },
      {
       "output_type": "stream",
       "stream": "stdout",
       "text": [
        "\n",
        "1000000\n",
        "(nan, 47.88603591918945, 47.88603591918945)"
       ]
      },
      {
       "output_type": "stream",
       "stream": "stdout",
       "text": [
        "\n",
        "(nan, 43.684969902038574, 43.684969902038574)"
       ]
      },
      {
       "output_type": "stream",
       "stream": "stdout",
       "text": [
        "\n"
       ]
      }
     ],
     "prompt_number": 17
    },
    {
     "cell_type": "markdown",
     "metadata": {},
     "source": [
      "---"
     ]
    },
    {
     "cell_type": "heading",
     "level": 1,
     "metadata": {},
     "source": [
      "References"
     ]
    },
    {
     "cell_type": "markdown",
     "metadata": {},
     "source": [
      "1. [CSIM: A neural Circuit SIMulator](http://www.lsm.tugraz.at/csim/index.html)"
     ]
    }
   ],
   "metadata": {}
  }
 ]
}