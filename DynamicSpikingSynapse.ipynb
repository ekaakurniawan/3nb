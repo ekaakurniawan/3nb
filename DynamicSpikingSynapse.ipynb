{
 "metadata": {
  "name": ""
 },
 "nbformat": 3,
 "nbformat_minor": 0,
 "worksheets": [
  {
   "cells": [
    {
     "cell_type": "markdown",
     "metadata": {
      "slideshow": {
       "slide_type": "-"
      }
     },
     "source": [
      "> Copyright (C) 2014 by Eka A. Kurniawan\n",
      "> \n",
      "> eka.a.kurniawan(ta)gmail(tod)com\n",
      "> \n",
      "> This program is free software; you can redistribute it and/or modify it under the terms of the GNU General Public License as published by the Free Software Foundation; version 2 of the License.\n",
      "> \n",
      "> This program is distributed in the hope that it will be useful, but WITHOUT ANY WARRANTY; without even the implied warranty of MERCHANTABILITY or FITNESS FOR A PARTICULAR PURPOSE.  See the GNU General Public License for more details.\n",
      "> \n",
      "> You should have received a copy of the GNU General Public License along with this program; if not, write to the Free Software Foundation, Inc., 59 Temple Place - Suite 330, Boston, MA  02111-1307, USA."
     ]
    },
    {
     "cell_type": "heading",
     "level": 3,
     "metadata": {},
     "source": [
      "TODOs"
     ]
    },
    {
     "cell_type": "markdown",
     "metadata": {},
     "source": [
      "- __Parallel Python-OpenCL Implementation__: Start with parallel implementation.\n",
      "- __Execution Time__: Collect and plot execution time.\n",
      "- __Dynamic Spiking Synapse Model__: Add dynamic spiking synapse model.\n",
      "\n",
      "Done:\n",
      "\n",
      "- __Dynamic Spiking Synapse Model__: Add dynamic spiking synapse class."
     ]
    },
    {
     "cell_type": "heading",
     "level": 3,
     "metadata": {
      "slideshow": {
       "slide_type": "-"
      }
     },
     "source": [
      "Tested On"
     ]
    },
    {
     "cell_type": "markdown",
     "metadata": {
      "slideshow": {
       "slide_type": "-"
      }
     },
     "source": [
      "MacBook Pro Retina, Mid 2012 with OS X 10.9.1 (Mavericks)"
     ]
    },
    {
     "cell_type": "markdown",
     "metadata": {},
     "source": [
      "Python version:"
     ]
    },
    {
     "cell_type": "code",
     "collapsed": false,
     "input": [
      "import sys\n",
      "print(\"Python %d.%d.%d\" % (sys.version_info.major, \\\n",
      "                           sys.version_info.minor, \\\n",
      "                           sys.version_info.micro))"
     ],
     "language": "python",
     "metadata": {},
     "outputs": [
      {
       "output_type": "stream",
       "stream": "stdout",
       "text": [
        "Python 3.3.3\n"
       ]
      }
     ],
     "prompt_number": 3
    },
    {
     "cell_type": "markdown",
     "metadata": {},
     "source": [
      "NumPy version:"
     ]
    },
    {
     "cell_type": "code",
     "collapsed": false,
     "input": [
      "import numpy as np\n",
      "print(\"NumPy %s\" % np.__version__)"
     ],
     "language": "python",
     "metadata": {},
     "outputs": [
      {
       "output_type": "stream",
       "stream": "stdout",
       "text": [
        "NumPy 1.8.0\n"
       ]
      }
     ],
     "prompt_number": 4
    },
    {
     "cell_type": "markdown",
     "metadata": {},
     "source": [
      "matplotlib version:"
     ]
    },
    {
     "cell_type": "code",
     "collapsed": false,
     "input": [
      "import matplotlib\n",
      "import matplotlib.pyplot as plt\n",
      "print(\"matplotlib %s\" % matplotlib.__version__)"
     ],
     "language": "python",
     "metadata": {},
     "outputs": [
      {
       "output_type": "stream",
       "stream": "stdout",
       "text": [
        "matplotlib 1.3.1\n"
       ]
      }
     ],
     "prompt_number": 5
    },
    {
     "cell_type": "heading",
     "level": 3,
     "metadata": {},
     "source": [
      "Execution and Settings"
     ]
    },
    {
     "cell_type": "markdown",
     "metadata": {},
     "source": [
      "To run this IPython Notebook; open a console, go to notebook directory and execute following command."
     ]
    },
    {
     "cell_type": "markdown",
     "metadata": {},
     "source": [
      "`ipython3-3.3 notebook --pylab inline`"
     ]
    },
    {
     "cell_type": "markdown",
     "metadata": {},
     "source": [
      "Settings required:"
     ]
    },
    {
     "cell_type": "code",
     "collapsed": false,
     "input": [
      "# Display graph in 'retina' format for Mac with retina display. Others, use PNG or SVG format.\n",
      "%config InlineBackend.figure_format = 'retina'\n",
      "#%config InlineBackend.figure_format = 'PNG'\n",
      "#%config InlineBackend.figure_format = 'SVG'"
     ],
     "language": "python",
     "metadata": {},
     "outputs": [],
     "prompt_number": 6
    },
    {
     "cell_type": "markdown",
     "metadata": {},
     "source": [
      "Other imports:"
     ]
    },
    {
     "cell_type": "code",
     "collapsed": false,
     "input": [
      "import time"
     ],
     "language": "python",
     "metadata": {},
     "outputs": [],
     "prompt_number": 7
    },
    {
     "cell_type": "heading",
     "level": 3,
     "metadata": {},
     "source": [
      "Housekeeping Functions"
     ]
    },
    {
     "cell_type": "markdown",
     "metadata": {},
     "source": [
      "Following function plots spikes and postsynaptic responses (PSRs) in a same graph."
     ]
    },
    {
     "cell_type": "code",
     "collapsed": false,
     "input": [
      "# dt: time step (in second)\n",
      "# spikes: array of simulation times when spikes happen\n",
      "# psrs: array of postsynaptic responses (PSRs) in every time step (in ampere)\n",
      "def plot_psrs(dt, spikes, psrs):\n",
      "    # Convert PSR from Ampere to Nanoampere\n",
      "    psrs_prime = psrs * 1e9\n",
      "    \n",
      "    fig = plt.figure()\n",
      "    \n",
      "    len_psrs = len(psrs)\n",
      "    time = np.linspace(0,len_psrs-1,len_psrs) * dt\n",
      "    \n",
      "    sp1 = fig.add_subplot(211)\n",
      "    sp1.scatter(spikes, len(spikes) * [1], color = 'red')\n",
      "    sp1.set_ylabel('Spikes')\n",
      "    sp1.set_xlim([0, time[-1]])\n",
      "    sp1.xaxis.grid()\n",
      "    sp1.set_yticklabels(\"\", visible = False)\n",
      "    sp1.set_xticklabels(\"\", visible = False)\n",
      "    \n",
      "    sp2 = fig.add_subplot(212)\n",
      "    sp2.plot(time, psrs_prime, color = 'green')\n",
      "    sp2.set_ylabel('Postsynaptic\\nResponse\\n(Nanoamperes)')\n",
      "    sp2.set_xlabel('Time (Seconds)')\n",
      "    sp2.set_xlim([0, time[-1]])\n",
      "    sp2.grid(True)\n",
      "    sp2.yaxis.tick_right()\n",
      "    \n",
      "    plt.show()"
     ],
     "language": "python",
     "metadata": {},
     "outputs": [],
     "prompt_number": 78
    },
    {
     "cell_type": "heading",
     "level": 1,
     "metadata": {},
     "source": [
      "Dynamic Spiking Synapse Model"
     ]
    },
    {
     "cell_type": "markdown",
     "metadata": {},
     "source": [
      "The implementation is taken from CSIM: A neural Circuit SIMulator website and modified accordingly.[1]"
     ]
    },
    {
     "cell_type": "code",
     "collapsed": false,
     "input": [
      "from math import exp\n",
      "\n",
      "# psr: postsynaptic respose (in ampere)\n",
      "# W: synaptic weight (unitless)\n",
      "# delay: cause and effect delay between presynaptic event and \n",
      "#        postsynaptic response (in second)\n",
      "class Synapse:\n",
      "    def __init__(self,\n",
      "                 psr = 0.0,\n",
      "                 W = 1.0,\n",
      "                 delay = 0.0):\n",
      "        self.psr = psr\n",
      "        self.W = W\n",
      "        self.delay = delay\n",
      "\n",
      "# tau: synaptic time constant (in second)\n",
      "# decay: postsynaptic decay (unitless)\n",
      "class SpikingSynapse(Synapse):\n",
      "    def __init__(self,\n",
      "                 dt = 2e-4,\n",
      "                 psr = 0.0,\n",
      "                 W = 1e-9,\n",
      "                 delay = 0.0,\n",
      "                 tau = 3e-3):\n",
      "        Synapse.__init__(self, psr, W, delay)\n",
      "        self.tau = tau\n",
      "        self.decay = 0.0\n",
      "        self.updateInternal(dt)\n",
      "        \n",
      "    def updateInternal(self, dt = 2e-4):\n",
      "        self.decay = exp(-dt / self.tau)\n",
      "        \n",
      "    def advance(self):\n",
      "        self.psr *= self.decay\n",
      "    \n",
      "# \n",
      "class DynamicSpikingSynapse(SpikingSynapse):\n",
      "    def __init__(self,\n",
      "                 dt = 2e-4,\n",
      "                 psr = 0.0,\n",
      "                 W = 1e-9,\n",
      "                 delay = 0.0,\n",
      "                 tau = 3e-3,\n",
      "                 U = 0.4,\n",
      "                 D = 1.0,\n",
      "                 F = 0.01,\n",
      "                 u0 = 0.4,\n",
      "                 r0 = 1.0,\n",
      "                 lastSpike = None):\n",
      "        SpikingSynapse.__init__(self, dt, psr, W, delay, tau)\n",
      "        self.U = U\n",
      "        self.D = D\n",
      "        self.F = F\n",
      "        self.u0 = u0\n",
      "        self.r0 = r0\n",
      "        self.lastSpike = lastSpike\n",
      "        self.u = u0\n",
      "        self.r = r0\n",
      "        self.isi = 0.0\n",
      "        \n",
      "    def reset_u(self):\n",
      "        self.u = u0\n",
      "    \n",
      "    def reset_r(self):\n",
      "        self.r = r0\n",
      "        \n",
      "    def preSpikeHit(self, simulationTime):\n",
      "        if (self.lastSpike):\n",
      "            self.isi = simulationTime - self.lastSpike\n",
      "            self.r = 1.0 + \\\n",
      "                     ( ((self.r * (1.0 - self.u)) - 1.0) * \\\n",
      "                       exp(-self.isi / self.D) )\n",
      "            self.u = self.U + \\\n",
      "                     ( self.u  * \\\n",
      "                       (1 - self.U) * \\\n",
      "                       exp(-self.isi / self.F) )\n",
      "        self.psr += ((self.W / self.decay) * self.u * self.r)\n",
      "        self.lastSpike = simulationTime"
     ],
     "language": "python",
     "metadata": {},
     "outputs": [],
     "prompt_number": 79
    },
    {
     "cell_type": "code",
     "collapsed": false,
     "input": [
      "dt = 2e-4\n",
      "Tsim = 0.900\n",
      "nSteps = int((Tsim / dt) + 0.5)\n",
      "\n",
      "spikes = [0.050, 0.086, 0.122, 0.158, 0.194, 0.230, \\\n",
      "          0.810]\n",
      "hasFireds = np.array(nSteps * [0], dtype = int32)\n",
      "for spike in spikes:\n",
      "    i = int((spike / dt) + 0.5)\n",
      "    hasFireds[i] = 1\n",
      "    \n",
      "s1 = DynamicSpikingSynapse(U = 0.4,\n",
      "                           D = 1.0,\n",
      "                           F = 0.01,\n",
      "                           u0 = 0.4,\n",
      "                           r0 = 1.0)\n",
      "\n",
      "t = 0.0\n",
      "psrs = np.array(nSteps * [0.0], dtype = float32)\n",
      "for i in range(nSteps):\n",
      "    t += dt\n",
      "    s1.advance()\n",
      "    if (hasFireds[i]):\n",
      "        s1.preSpikeHit(t)\n",
      "    psrs[i] = s1.psr\n",
      "    \n",
      "plot_psrs(dt, spikes, psrs)"
     ],
     "language": "python",
     "metadata": {},
     "outputs": [
      {
       "metadata": {
        "png": {
         "height": 265,
         "width": 410
        }
       },
       "output_type": "display_data",
       "png": "[encoded data removed]",
       "text": [
        "<matplotlib.figure.Figure at 0x107c7c1d0>"
       ]
      }
     ],
     "prompt_number": 90
    },
    {
     "cell_type": "markdown",
     "metadata": {},
     "source": [
      "---"
     ]
    },
    {
     "cell_type": "heading",
     "level": 1,
     "metadata": {},
     "source": [
      "References"
     ]
    },
    {
     "cell_type": "markdown",
     "metadata": {},
     "source": [
      "1. [CSIM: A neural Circuit SIMulator](http://www.lsm.tugraz.at/csim/index.html)"
     ]
    }
   ],
   "metadata": {}
  }
 ]
}