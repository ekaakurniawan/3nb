{
 "metadata": {
  "name": ""
 },
 "nbformat": 3,
 "nbformat_minor": 0,
 "worksheets": [
  {
   "cells": [
    {
     "cell_type": "heading",
     "level": 1,
     "metadata": {},
     "source": [
      "Installation"
     ]
    },
    {
     "cell_type": "heading",
     "level": 2,
     "metadata": {},
     "source": [
      "Apple OS X 10.9 (Mavericks) 64-bit"
     ]
    },
    {
     "cell_type": "markdown",
     "metadata": {},
     "source": [
      "- Install MacPorts\n",
      "\n",
      "There are many ways to install Python on to Mac. I use MacPorts to get benefit of interoperability packages from Linux as well as separating them from my native OS X applications and packages. MacPorts installation procedure can be found at [Installing MacPorts](http://www.macports.org/install.php) website. After acquiring and installing the `.pkg` file based on your OS X version, you can find all executable binary files at `/opt/local/bin` directory. They are separated from native `/bin` directory as we intend it to.\n",
      "\n",
      "- Install Python and Required Packages\n",
      "\n",
      "Use `Terminal` (command prompt) to install Python and all packages required using following command. And yes, you need super user or admin access to do this. Following command installs Python, NumPy, matplotlib, PyOpenCL and IPython specific to Python version 3.3.\n",
      "\n",
      "`sudo /opt/local/bin/port install python33 py33-numpy py33-matplotlib py33-pyopencl py33-ipython`\n",
      "\n",
      "- Run IPython Notebook\n",
      "\n",
      "To run IPython notebook, go to directory consists of notebook (`.ipynb`) files and execute following command.\n",
      "\n",
      "`/opt/local/bin/ipython3-3.3 notebook --pylab inline`"
     ]
    },
    {
     "cell_type": "heading",
     "level": 2,
     "metadata": {},
     "source": [
      "Microsoft Windows 7 and Windows Server 2012 64-bit"
     ]
    },
    {
     "cell_type": "markdown",
     "metadata": {},
     "source": [
      "- Install Python\n",
      "\n",
      "Download and install Python 3.3 64-bit (`Windows X86-64 MSI Installer`) from [Python](http://www.python.org) website.\n",
      "\n",
      "- Set Python Environment\n",
      "\n",
      "Open Control Panel, System, Advanced system settings, and Environment Variables. Under System variables tab, add following Python directory and Python scripts directory into Path variable separated by semicolon.\n",
      "\n",
      "Python directory: `C:\\Python33`\n",
      "\n",
      "Python scripts directory: `C:\\Python33\\Scripts`\n",
      "\n",
      "- Install Required Packages\n",
      "\n",
      "Download and install required packages from [Unofficial Windows Binaries for Python Extension Packages](http://www.lfd.uci.edu/~gohlke/pythonlibs/) website as follow. Package version can be different but keywords `win` for Windows, `amd64` for 64-bit machine and `py3.3` for Python version 3.3 have to be matching.\n",
      "\n",
      "`numpy-MKL-1.8.0.win-amd64-py3.3.exe`<br>\n",
      "`matplotlib-1.3.1.win-amd64-py3.3.exe`<br>\n",
      "`pyopencl-2013.2.win-amd64-py3.3.exe`<br>\n",
      "`ipython-1.2.0.win-amd64-py3.3.exe`<br>\n",
      "`scipy-0.13.3.win-amd64-py3.3.exe`<br>\n",
      "`PySide-1.2.1.win-amd64-py3.3.exe`<br>\n",
      "`PyQt-Py3.3-x64-gpl-4.9.6-1.exe`<br>\n",
      "`pycairo-1.10.0.win-amd64-py3.3.exe`<br>\n",
      "`Pygments-1.6.win-amd64-py3.3.exe`<br>\n",
      "`pyreadline-2.0.win-amd64-py3.3.exe`<br>\n",
      "`setuptools-2.2.win-amd64-py3.3.exe`<br>\n",
      "`six-1.5.2.win-amd64-py3.3.exe`<br>\n",
      "`pyparsing-2.0.1.win-amd64-py3.3.exe`<br>\n",
      "`tornado-3.2.win-amd64-py3.3.exe`<br>\n",
      "`MarkupSafe-0.18.win-amd64-py3.3.exe`<br>\n",
      "`Jinja2-2.7.2.win-amd64-py3.3.exe`<br>\n",
      "`pyzmq-14.0.1.win-amd64-py3.3.exe`<br>\n",
      "`pytools-2014.1.2.win-amd64-py3.3.exe`<br>\n",
      "\n",
      "- Install OpenCL Driver\n",
      "\n",
      "Download and install OpenCL driver from your CPU or GPU vendor (Intel, AMD or NVIDIA) website.\n",
      "\n",
      "- Run IPython Notebook\n",
      "\n",
      "To run IPython notebook, on Command Prompt, go to directory consists of notebook (`.ipynb`) files and execute following command.\n",
      "\n",
      "`ipython3 notebook --pylab inline`"
     ]
    }
   ],
   "metadata": {}
  }
 ]
}